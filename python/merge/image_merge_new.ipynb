{
 "cells": [
  {
   "cell_type": "code",
   "execution_count": 259,
   "metadata": {},
   "outputs": [],
   "source": [
    "# this notebook is sucessfully merging image1/image2 and image2/image3"
   ]
  },
  {
   "cell_type": "code",
   "execution_count": 260,
   "metadata": {},
   "outputs": [],
   "source": [
    "import numpy as np\n",
    "from PIL import Image\n",
    "import cv2"
   ]
  },
  {
   "cell_type": "code",
   "execution_count": 261,
   "metadata": {},
   "outputs": [],
   "source": [
    "folder = 'origin'\n",
    "f1 = 'merged_stripped_002_005'\n",
    "f2 = 'merged_stripped_002_007'"
   ]
  },
  {
   "cell_type": "code",
   "execution_count": 262,
   "metadata": {},
   "outputs": [],
   "source": [
    "im1 =  cv2.imread(folder + '\\\\' + f1 + '.jpg')\n",
    "im2 =  cv2.imread(folder + '\\\\' + f2 + '.jpg')\n",
    "\n",
    "im1_gray = cv2.cvtColor(im1,cv2.COLOR_BGR2GRAY)\n",
    "im2_gray = cv2.cvtColor(im2,cv2.COLOR_BGR2GRAY)"
   ]
  },
  {
   "cell_type": "code",
   "execution_count": 263,
   "metadata": {},
   "outputs": [],
   "source": [
    "ht1, wd1 = im1_gray.shape\n",
    "ht2, wd2= im2_gray.shape"
   ]
  },
  {
   "cell_type": "code",
   "execution_count": 264,
   "metadata": {},
   "outputs": [
    {
     "name": "stdout",
     "output_type": "stream",
     "text": [
      "3626 5667\n",
      "3000 1841\n"
     ]
    }
   ],
   "source": [
    "################ main heights and widths #############################\n",
    "print(ht1, wd1)\n",
    "print(ht2, wd2)"
   ]
  },
  {
   "cell_type": "code",
   "execution_count": 265,
   "metadata": {},
   "outputs": [],
   "source": [
    "# # works with im1/im2, im3, im4, im5, im6/im7\n",
    "# trim_wd1 = int(wd1/2)\n",
    "# trim_ht1 = int(ht1*0.6)\n",
    "\n",
    "# trim_wd2 = int(wd2/2)\n",
    "# trim_ht2 = int(ht2*0.6)"
   ]
  },
  {
   "cell_type": "code",
   "execution_count": 266,
   "metadata": {},
   "outputs": [],
   "source": [
    "# 1st merge im1, im2, im3, im4, im5\n",
    "# then merge im6, im7\n",
    "# then use settings below to merge the two results\n",
    "trim_wd1 = int(wd1*.2)\n",
    "trim_ht1 = int(ht1*.2)\n",
    "\n",
    "trim_wd2 = int(wd2*0.7)\n",
    "trim_ht2 = int(ht2/4)"
   ]
  },
  {
   "cell_type": "code",
   "execution_count": 267,
   "metadata": {},
   "outputs": [],
   "source": [
    "trimmed1 = im1_gray[:trim_ht1, wd1 - trim_wd1:]\n",
    "trimmed2 = im2_gray[ht2-trim_ht2:, :trim_wd2]"
   ]
  },
  {
   "cell_type": "code",
   "execution_count": 268,
   "metadata": {},
   "outputs": [],
   "source": [
    "# trimmed1 = im1[:trim_ht1, wd1 - trim_wd1:]\n",
    "# trimmed2 = im2[ht2-trim_ht2:, :trim_wd2]"
   ]
  },
  {
   "cell_type": "code",
   "execution_count": 269,
   "metadata": {},
   "outputs": [
    {
     "name": "stdout",
     "output_type": "stream",
     "text": [
      "725 1133\n",
      "750 1288\n"
     ]
    }
   ],
   "source": [
    "################ trimmed heights and widths #############################\n",
    "print(trim_ht1, trim_wd1)\n",
    "print(trim_ht2, trim_wd2)"
   ]
  },
  {
   "cell_type": "code",
   "execution_count": 270,
   "metadata": {},
   "outputs": [],
   "source": [
    "# Image.fromarray(im1)"
   ]
  },
  {
   "cell_type": "code",
   "execution_count": 271,
   "metadata": {},
   "outputs": [],
   "source": [
    "# Image.fromarray(trimmed1)"
   ]
  },
  {
   "cell_type": "code",
   "execution_count": 272,
   "metadata": {},
   "outputs": [],
   "source": [
    "# Image.fromarray(trimmed2)"
   ]
  },
  {
   "cell_type": "code",
   "execution_count": 273,
   "metadata": {},
   "outputs": [],
   "source": [
    "orb = cv2.ORB_create(50)\n",
    "\n",
    "kp1, des1 = orb.detectAndCompute(trimmed1, None)\n",
    "kp2, des2 = orb.detectAndCompute(trimmed2, None)\n",
    "\n",
    "matcher = cv2.DescriptorMatcher_create(cv2.DESCRIPTOR_MATCHER_BRUTEFORCE_HAMMING)\n",
    "\n",
    "matches = matcher.match(des1, des2, None)\n",
    "\n",
    "matches = sorted(matches, key = lambda x:x.distance)"
   ]
  },
  {
   "cell_type": "code",
   "execution_count": 274,
   "metadata": {},
   "outputs": [
    {
     "data": {
      "text/plain": [
       "-1"
      ]
     },
     "execution_count": 274,
     "metadata": {},
     "output_type": "execute_result"
    }
   ],
   "source": [
    "# draw matches\n",
    "imgX = cv2.drawMatches(trimmed1, kp1, trimmed2, kp2, matches[:1], None)\n",
    "\n",
    "# uncomment to show matches\n",
    "# cv2.imshow('matches',imgX)\n",
    "\n",
    "cv2.waitKey(0)"
   ]
  },
  {
   "cell_type": "code",
   "execution_count": 275,
   "metadata": {},
   "outputs": [],
   "source": [
    "points1 = np.zeros((len(matches), 2), dtype=np.float32)\n",
    "points2 = np.zeros((len(matches), 2), dtype=np.float32)\n",
    "\n",
    "for i, match in enumerate(matches):\n",
    "    points1[i, :] = kp1[match.queryIdx].pt\n",
    "    points2[i, :] = kp2[match.trainIdx].pt"
   ]
  },
  {
   "cell_type": "code",
   "execution_count": 276,
   "metadata": {},
   "outputs": [],
   "source": [
    "num = 0\n",
    "\n",
    "# im1_doty = ht1 - trim_ht1 + points1[num][1]\n",
    "im1_doty = ht1 - points1[num][1]\n",
    "im1_dotx = wd1 - trim_wd1 + points1[num][0]\n",
    "\n",
    "# im2_doty = points2[num][1]\n",
    "im2_doty = trim_ht2 - points2[num][1]\n",
    "im2_dotx = points2[num][0]"
   ]
  },
  {
   "cell_type": "code",
   "execution_count": 277,
   "metadata": {},
   "outputs": [
    {
     "name": "stdout",
     "output_type": "stream",
     "text": [
      "3136.0 5574.0\n",
      "689.0 338.0\n"
     ]
    }
   ],
   "source": [
    "################ dot locs #############################\n",
    "print(im1_doty, im1_dotx)\n",
    "print(im2_doty, im2_dotx)"
   ]
  },
  {
   "cell_type": "code",
   "execution_count": 278,
   "metadata": {},
   "outputs": [],
   "source": [
    "y_buf1 = int(round(im1_doty - im2_doty + ht2 - ht1))\n",
    "x_buf1 = int(round(im1_dotx - im2_dotx + wd2 - wd1))\n",
    "\n",
    "# y_buf1\n",
    "# x_buf1\n",
    "\n",
    "y_buf2 = int(round(im1_doty - im2_doty))\n",
    "x_buf2 = int(round(im1_dotx - im2_dotx))"
   ]
  },
  {
   "cell_type": "code",
   "execution_count": 279,
   "metadata": {},
   "outputs": [
    {
     "name": "stdout",
     "output_type": "stream",
     "text": [
      "1821 1410\n",
      "2447 5236\n"
     ]
    }
   ],
   "source": [
    "################ buffers #############################\n",
    "print(y_buf1, x_buf1)\n",
    "print(y_buf2, x_buf2)"
   ]
  },
  {
   "cell_type": "code",
   "execution_count": 280,
   "metadata": {},
   "outputs": [],
   "source": [
    "# copyMakeBorder( src, dst, top, bottom, left, right, borderType, value )\n",
    "im1_new = cv2.copyMakeBorder(im1, y_buf1, 0, 0, x_buf1, cv2.BORDER_CONSTANT)\n",
    "# im2_new = cv2.copyMakeBorder(im2, 0, y_buf2, x_buf2, 0, cv2.BORDER_CONSTANT)"
   ]
  },
  {
   "cell_type": "code",
   "execution_count": 281,
   "metadata": {},
   "outputs": [],
   "source": [
    "# convert colors: BGR to RGB\n",
    "im1_new_rgb = cv2.cvtColor(im1_new, cv2.COLOR_BGR2RGB)\n",
    "im2_rgb = cv2.cvtColor(im2, cv2.COLOR_BGR2RGB)"
   ]
  },
  {
   "cell_type": "code",
   "execution_count": 282,
   "metadata": {},
   "outputs": [],
   "source": [
    "# use without scale\n",
    "out1 = Image.fromarray(im1_new_rgb)\n",
    "out2 = Image.fromarray(im2_rgb)\n",
    "\n",
    "output = out1.copy()\n",
    "output.paste(out2, (x_buf2, 0))\n",
    "\n",
    "output.save(folder + '\\\\merged_' + f2 + '.jpg')"
   ]
  },
  {
   "cell_type": "code",
   "execution_count": 283,
   "metadata": {},
   "outputs": [],
   "source": [
    "# # use for scale\n",
    "# out1.putalpha(255)\n",
    "# out2.putalpha(255)\n",
    "\n",
    "# # makes the corner that interferes with scale transparent\n",
    "# arr = np.array(out2)\n",
    "# arr[-500:, :300, 3] = 0\n",
    "# out2 = Image.fromarray(arr)\n",
    "\n",
    "# output = out1.copy()\n",
    "# output.paste(out2, (x_buf2, 0), out2)\n",
    "\n",
    "# output = output.convert(\"RGB\")\n",
    "\n",
    "# output.save(folder + '\\\\merged_' + f2 + '.jpg')"
   ]
  },
  {
   "cell_type": "code",
   "execution_count": null,
   "metadata": {},
   "outputs": [],
   "source": []
  }
 ],
 "metadata": {
  "kernelspec": {
   "display_name": "Python 3",
   "language": "python",
   "name": "python3"
  },
  "language_info": {
   "codemirror_mode": {
    "name": "ipython",
    "version": 3
   },
   "file_extension": ".py",
   "mimetype": "text/x-python",
   "name": "python",
   "nbconvert_exporter": "python",
   "pygments_lexer": "ipython3",
   "version": "3.7.7"
  }
 },
 "nbformat": 4,
 "nbformat_minor": 4
}
