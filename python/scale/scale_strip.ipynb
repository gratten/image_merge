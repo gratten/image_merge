{
 "cells": [
  {
   "cell_type": "code",
   "execution_count": 34,
   "metadata": {},
   "outputs": [],
   "source": [
    "import numpy as np\n",
    "from PIL import Image"
   ]
  },
  {
   "cell_type": "code",
   "execution_count": 35,
   "metadata": {},
   "outputs": [],
   "source": [
    "folder = 'origin'\n",
    "fname = '002_001'"
   ]
  },
  {
   "cell_type": "code",
   "execution_count": 36,
   "metadata": {},
   "outputs": [],
   "source": [
    "pic = Image.open(folder + '\\\\' + fname + '.jpg')"
   ]
  },
  {
   "cell_type": "code",
   "execution_count": 37,
   "metadata": {},
   "outputs": [],
   "source": [
    "image = np.array(pic)"
   ]
  },
  {
   "cell_type": "code",
   "execution_count": 38,
   "metadata": {},
   "outputs": [],
   "source": [
    "# create boolean mask, white is True\n",
    "white = np.array([255, 255, 255])"
   ]
  },
  {
   "cell_type": "code",
   "execution_count": 39,
   "metadata": {},
   "outputs": [],
   "source": [
    "def get_mask(image):\n",
    "    return np.abs(image - white).sum(axis=2) < 0.05"
   ]
  },
  {
   "cell_type": "code",
   "execution_count": 40,
   "metadata": {},
   "outputs": [],
   "source": [
    "# o = orientation, 0 for horizontal, 1 for vertical\n",
    "def clip_pos(mask, orientation):\n",
    "    not_all_white = np.any(~mask, axis=orientation)\n",
    "    all_white = np.where(~not_all_white)\n",
    "    return all_white[0][0]"
   ]
  },
  {
   "cell_type": "code",
   "execution_count": 41,
   "metadata": {},
   "outputs": [],
   "source": [
    "# trim white borders\n",
    "mask0 = get_mask(image)\n",
    "\n",
    "coords = np.array(np.nonzero(~mask0))\n",
    "top_left = np.min(coords, axis=1)\n",
    "bottom_right = np.max(coords, axis=1)\n",
    "\n",
    "trim = 10\n",
    "\n",
    "out = image[top_left[0]+trim:bottom_right[0]-trim,\n",
    "            top_left[1]+trim:bottom_right[1]-trim]"
   ]
  },
  {
   "cell_type": "code",
   "execution_count": 42,
   "metadata": {},
   "outputs": [],
   "source": [
    "# create img1 (full image, all white space removed)\n",
    "mask1 = get_mask(out)\n",
    "clip1 = clip_pos(mask1, 1)\n",
    "main_image = out[:clip1, :]"
   ]
  },
  {
   "cell_type": "code",
   "execution_count": 43,
   "metadata": {},
   "outputs": [],
   "source": [
    "# trim up scale\n",
    "clipped1 = out[clip1:, :]\n",
    "mask2 = get_mask(clipped1)\n",
    "clip2 = clip_pos(mask2, 0)\n",
    "clipped2 = clipped1[:, clip2:]\n",
    "mask3 = get_mask(clipped2)\n",
    "any_colored = np.where(np.any(~mask3, axis=0))[0][0]\n",
    "clipped3 = clipped2[:, any_colored:]\n",
    "mask4 = get_mask(clipped3)\n",
    "clip4 = clip_pos(mask4, 0)\n",
    "clipped4 = clipped3[:, :clip4]"
   ]
  },
  {
   "cell_type": "code",
   "execution_count": 44,
   "metadata": {},
   "outputs": [],
   "source": [
    "# main image\n",
    "img1 = Image.fromarray(main_image)\n",
    "img1.putalpha(255)\n",
    "\n",
    "# scale image\n",
    "img2 = Image.fromarray(clipped4)\n",
    "img2.putalpha(255)"
   ]
  },
  {
   "cell_type": "code",
   "execution_count": 45,
   "metadata": {},
   "outputs": [],
   "source": [
    "# make scale transparent\n",
    "datas = img2.getdata()\n",
    "newData = []\n",
    "for item in datas:\n",
    "    if item[0] > 200 and item[1] > 100 and item[2] > 100:\n",
    "        newData.append((255, 255, 255, 0))\n",
    "    else:\n",
    "        newData.append((0, 0, 0, 255))\n",
    "        \n",
    "img2.putdata(newData)"
   ]
  },
  {
   "cell_type": "code",
   "execution_count": 46,
   "metadata": {},
   "outputs": [],
   "source": [
    "# paste and save, tweak to modify scale location\n",
    "img1.paste(img2, (200, 1350), img2)"
   ]
  },
  {
   "cell_type": "code",
   "execution_count": 47,
   "metadata": {},
   "outputs": [],
   "source": [
    "img1 = img1.convert(\"RGB\")"
   ]
  },
  {
   "cell_type": "code",
   "execution_count": 48,
   "metadata": {},
   "outputs": [],
   "source": [
    "img1 = img1.save('output//with_scale.jpg')"
   ]
  }
 ],
 "metadata": {
  "kernelspec": {
   "display_name": "Python 3",
   "language": "python",
   "name": "python3"
  },
  "language_info": {
   "codemirror_mode": {
    "name": "ipython",
    "version": 3
   },
   "file_extension": ".py",
   "mimetype": "text/x-python",
   "name": "python",
   "nbconvert_exporter": "python",
   "pygments_lexer": "ipython3",
   "version": "3.7.7"
  }
 },
 "nbformat": 4,
 "nbformat_minor": 5
}
